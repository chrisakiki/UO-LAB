{
 "cells": [
  {
   "cell_type": "code",
   "execution_count": null,
   "metadata": {},
   "outputs": [],
   "source": [
    "import numpy as np\n",
    "\n",
    "ID_hxn_connect = .824 #in\n",
    "g_imp = 32.2\n",
    "g_met = 9.8\n",
    "\n",
    "rho_water = 62.4\n",
    "mu_water = .926\n",
    "\n",
    "def reynolds_f(density,D,vel,mu): #ASSUMPTION: D in ft and vel in ft^3/s\n",
    "    return density*D*vel/mu\n",
    "\n",
    "class heat_ex:\n",
    "    def __init__(self,SA,PL,k24,k31,nop):\n",
    "        self.SA = SA\n",
    "        self.PL = PL\n",
    "        self.k24 = k24\n",
    "        self.k31 = k31\n",
    "        self.nop = nop\n",
    "        self.pipe_D = 0.06866667 #ft\n",
    "        self.pipe_A = self.pipe_D**2/4*np.pi\n",
    "    def set_flow(self,Vdot): #ASSUMPTION: Vdot is in lpm\n",
    "        self.Vdot = Vdot*0.000589 #ft^3/s\n",
    "        self.velocity = Vdot/pipe_area\n",
    "    def presdrop_3_1(self):\n",
    "        self.presdrop = self.k31*self.velocity**2/2/g_imp #PRESUME: psi?\n",
    "    "
   ]
  }
 ],
 "metadata": {
  "kernelspec": {
   "display_name": "Python 3",
   "language": "python",
   "name": "python3"
  },
  "language_info": {
   "codemirror_mode": {
    "name": "ipython",
    "version": 3
   },
   "file_extension": ".py",
   "mimetype": "text/x-python",
   "name": "python",
   "nbconvert_exporter": "python",
   "pygments_lexer": "ipython3",
   "version": "3.8.5"
  }
 },
 "nbformat": 4,
 "nbformat_minor": 4
}
