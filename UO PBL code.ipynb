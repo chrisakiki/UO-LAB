{
 "cells": [
  {
   "cell_type": "code",
   "execution_count": 10,
   "metadata": {},
   "outputs": [
    {
     "name": "stdout",
     "output_type": "stream",
     "text": [
      "0.0003440422173277026 0.000666668\n",
      "19.540687681577463\n",
      "14365.143146683835 11000\n"
     ]
    }
   ],
   "source": [
    "import numpy as np\n",
    "\n",
    "ID_hxn_connect = .824 #in\n",
    "g_imp = 32.2\n",
    "g_met = 9.8\n",
    "\n",
    "Thotin = 40 #C\n",
    "Tcoldin = 25 #C\n",
    "Vhotin = 25 #lpm\n",
    "Vhotin_f = 0.01471444 #ft^3/s\n",
    "rho_water_m = .992 #kg/l\n",
    "MhotinSI = Vhotin*rho_water_m/60 #kg/s\n",
    "cp_water_m = 4.18 #kj/kg/C\n",
    "heat_req = 11 #kw\n",
    "deltaThot = heat_req/(MhotinSI*cp_water_m) #C\n",
    "Thotout = Thotin -  deltaThot #C\n",
    "\n",
    "rho_water = 62.4\n",
    "mu_water = .926\n",
    "\n",
    "def reynolds_f(density,D,vel,mu): #ASSUMPTION: D in ft and vel in ft^3/s\n",
    "    return density*D*vel/mu\n",
    "\n",
    "def Tlogmean(hotin,coldin,hotout,coldout):\n",
    "    return ((hotout-coldin)-(hotin+coldout))/np.log((hotout-coldin)/(hotin-coldout))\n",
    "\n",
    "class heat_ex:\n",
    "    def __init__(self,SA,PL,k24,k31,nop):\n",
    "        self.SA = SA\n",
    "        self.PL = PL\n",
    "        self.k24 = k24\n",
    "        self.k31 = k31\n",
    "        self.nop = nop\n",
    "        self.pipe_D = ID_hxn_connect*.0254 #m\n",
    "        self.pipe_A = self.pipe_D**2/4*np.pi #m^2\n",
    "    def set_flow(self,Vdot): #ASSUMPTION: Vdot is in lpm\n",
    "        self.massdot = Vdot*rho_water_m/60 #kg/s\n",
    "        self.Vdot = Vdot*0.0000166667 #m^3/s\n",
    "        print(self.pipe_A,self.Vdot)\n",
    "        self.velocity = self.Vdot/self.pipe_A\n",
    "    def presdrop_3_1(self):\n",
    "        self.presdrop = self.k31*self.velocity**2/(2*g_met) #Pascals!!\n",
    "    def calc_re(self):\n",
    "        cur_vel = min(Vhotin_f,self.Vdot)\n",
    "        self.re = reynolds_f(rho_water,self.pipe_D,cur_vel,mu_water) #This is the reynolds for U calculations only!!!\n",
    "        #AKA, this will be the reynolds for the lowest flowrate stream\n",
    "    def calc_U(self):\n",
    "        self.U = self.re/self.nop+1800 #W/m^2/K\n",
    "    def calc_Tcoldout(self):\n",
    "        deltaTcold = heat_req/(self.massdot*cp_water_m)\n",
    "        self.Tcoldout = Tcoldin-deltaTcold\n",
    "    def double_check(self):\n",
    "        Q = self.U*self.SA*Tlogmean(Thotin,Tcoldin,Thotout,self.Tcoldout)\n",
    "        print(Q,heat_req*1000)\n",
    "        \n",
    "hxn10 = heat_ex(.12,7.5,209,102,10)\n",
    "hxn10.set_flow(40)\n",
    "hxn10.presdrop_3_1()\n",
    "print(hxn10.presdrop)\n",
    "hxn10.calc_re()\n",
    "hxn10.calc_U()\n",
    "hxn10.calc_Tcoldout()\n",
    "hxn10.double_check()"
   ]
  },
  {
   "cell_type": "code",
   "execution_count": null,
   "metadata": {},
   "outputs": [],
   "source": []
  }
 ],
 "metadata": {
  "kernelspec": {
   "display_name": "Python 3",
   "language": "python",
   "name": "python3"
  },
  "language_info": {
   "codemirror_mode": {
    "name": "ipython",
    "version": 3
   },
   "file_extension": ".py",
   "mimetype": "text/x-python",
   "name": "python",
   "nbconvert_exporter": "python",
   "pygments_lexer": "ipython3",
   "version": "3.8.5"
  }
 },
 "nbformat": 4,
 "nbformat_minor": 4
}
